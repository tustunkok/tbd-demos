{
 "cells": [
  {
   "cell_type": "code",
   "execution_count": 3,
   "metadata": {},
   "outputs": [],
   "source": [
    "import pandas as pd\n",
    "import numpy as np\n",
    "\n",
    "from sklearn.model_selection import train_test_split\n",
    "from sklearn.metrics import classification_report\n",
    "from sklearn.preprocessing import OneHotEncoder\n",
    "\n",
    "from keras.layers import Dense\n",
    "from keras.models import Sequential"
   ]
  },
  {
   "cell_type": "code",
   "execution_count": 2,
   "metadata": {},
   "outputs": [
    {
     "data": {
      "text/html": [
       "<div>\n",
       "<style scoped>\n",
       "    .dataframe tbody tr th:only-of-type {\n",
       "        vertical-align: middle;\n",
       "    }\n",
       "\n",
       "    .dataframe tbody tr th {\n",
       "        vertical-align: top;\n",
       "    }\n",
       "\n",
       "    .dataframe thead th {\n",
       "        text-align: right;\n",
       "    }\n",
       "</style>\n",
       "<table border=\"1\" class=\"dataframe\">\n",
       "  <thead>\n",
       "    <tr style=\"text-align: right;\">\n",
       "      <th></th>\n",
       "      <th>sl</th>\n",
       "      <th>sw</th>\n",
       "      <th>pl</th>\n",
       "      <th>pw</th>\n",
       "      <th>class</th>\n",
       "    </tr>\n",
       "  </thead>\n",
       "  <tbody>\n",
       "    <tr>\n",
       "      <td>0</td>\n",
       "      <td>5.1</td>\n",
       "      <td>3.5</td>\n",
       "      <td>1.4</td>\n",
       "      <td>0.2</td>\n",
       "      <td>Iris-setosa</td>\n",
       "    </tr>\n",
       "    <tr>\n",
       "      <td>1</td>\n",
       "      <td>4.9</td>\n",
       "      <td>3.0</td>\n",
       "      <td>1.4</td>\n",
       "      <td>0.2</td>\n",
       "      <td>Iris-setosa</td>\n",
       "    </tr>\n",
       "    <tr>\n",
       "      <td>2</td>\n",
       "      <td>4.7</td>\n",
       "      <td>3.2</td>\n",
       "      <td>1.3</td>\n",
       "      <td>0.2</td>\n",
       "      <td>Iris-setosa</td>\n",
       "    </tr>\n",
       "    <tr>\n",
       "      <td>3</td>\n",
       "      <td>4.6</td>\n",
       "      <td>3.1</td>\n",
       "      <td>1.5</td>\n",
       "      <td>0.2</td>\n",
       "      <td>Iris-setosa</td>\n",
       "    </tr>\n",
       "    <tr>\n",
       "      <td>4</td>\n",
       "      <td>5.0</td>\n",
       "      <td>3.6</td>\n",
       "      <td>1.4</td>\n",
       "      <td>0.2</td>\n",
       "      <td>Iris-setosa</td>\n",
       "    </tr>\n",
       "  </tbody>\n",
       "</table>\n",
       "</div>"
      ],
      "text/plain": [
       "    sl   sw   pl   pw        class\n",
       "0  5.1  3.5  1.4  0.2  Iris-setosa\n",
       "1  4.9  3.0  1.4  0.2  Iris-setosa\n",
       "2  4.7  3.2  1.3  0.2  Iris-setosa\n",
       "3  4.6  3.1  1.5  0.2  Iris-setosa\n",
       "4  5.0  3.6  1.4  0.2  Iris-setosa"
      ]
     },
     "execution_count": 2,
     "metadata": {},
     "output_type": "execute_result"
    }
   ],
   "source": [
    "df = pd.read_csv(\"iris.csv\")\n",
    "df.head()"
   ]
  },
  {
   "cell_type": "code",
   "execution_count": 4,
   "metadata": {},
   "outputs": [],
   "source": [
    "onehot_enc = OneHotEncoder(sparse=False)\n",
    "\n",
    "X = df.drop(\"class\", axis=1).values\n",
    "y = onehot_enc.fit_transform(df[\"class\"].values.reshape(-1, 1))"
   ]
  },
  {
   "cell_type": "code",
   "execution_count": 6,
   "metadata": {},
   "outputs": [],
   "source": [
    "X_train, X_test, y_train, y_test = train_test_split(X, y, \\\n",
    "    test_size = 0.2, random_state=42)"
   ]
  },
  {
   "cell_type": "code",
   "execution_count": 5,
   "metadata": {},
   "outputs": [
    {
     "name": "stderr",
     "output_type": "stream",
     "text": [
      "WARNING: Logging before flag parsing goes to stderr.\n",
      "W0828 12:18:44.451601 139809470121792 deprecation_wrapper.py:119] From /home/tustunkok/miniconda3/envs/dl/lib/python3.7/site-packages/keras/backend/tensorflow_backend.py:74: The name tf.get_default_graph is deprecated. Please use tf.compat.v1.get_default_graph instead.\n",
      "\n",
      "W0828 12:18:44.471563 139809470121792 deprecation_wrapper.py:119] From /home/tustunkok/miniconda3/envs/dl/lib/python3.7/site-packages/keras/backend/tensorflow_backend.py:517: The name tf.placeholder is deprecated. Please use tf.compat.v1.placeholder instead.\n",
      "\n",
      "W0828 12:18:44.473925 139809470121792 deprecation_wrapper.py:119] From /home/tustunkok/miniconda3/envs/dl/lib/python3.7/site-packages/keras/backend/tensorflow_backend.py:4138: The name tf.random_uniform is deprecated. Please use tf.random.uniform instead.\n",
      "\n",
      "W0828 12:18:44.515021 139809470121792 deprecation_wrapper.py:119] From /home/tustunkok/miniconda3/envs/dl/lib/python3.7/site-packages/keras/optimizers.py:790: The name tf.train.Optimizer is deprecated. Please use tf.compat.v1.train.Optimizer instead.\n",
      "\n",
      "W0828 12:18:44.539427 139809470121792 deprecation_wrapper.py:119] From /home/tustunkok/miniconda3/envs/dl/lib/python3.7/site-packages/keras/backend/tensorflow_backend.py:3295: The name tf.log is deprecated. Please use tf.math.log instead.\n",
      "\n"
     ]
    }
   ],
   "source": [
    "model = Sequential()\n",
    "model.add(Dense(32, activation=\"relu\", input_shape=(4,)))\n",
    "model.add(Dense(16, activation=\"relu\"))\n",
    "model.add(Dense(3, activation=\"softmax\"))\n",
    "\n",
    "model.compile(loss=\"categorical_crossentropy\", \\\n",
    "              optimizer=\"adam\", metrics=[\"accuracy\"])"
   ]
  },
  {
   "cell_type": "code",
   "execution_count": 7,
   "metadata": {},
   "outputs": [
    {
     "name": "stderr",
     "output_type": "stream",
     "text": [
      "W0828 12:19:59.764291 139809470121792 deprecation.py:323] From /home/tustunkok/miniconda3/envs/dl/lib/python3.7/site-packages/tensorflow/python/ops/math_grad.py:1250: add_dispatch_support.<locals>.wrapper (from tensorflow.python.ops.array_ops) is deprecated and will be removed in a future version.\n",
      "Instructions for updating:\n",
      "Use tf.where in 2.0, which has the same broadcast rule as np.where\n",
      "W0828 12:19:59.816498 139809470121792 deprecation_wrapper.py:119] From /home/tustunkok/miniconda3/envs/dl/lib/python3.7/site-packages/keras/backend/tensorflow_backend.py:986: The name tf.assign_add is deprecated. Please use tf.compat.v1.assign_add instead.\n",
      "\n"
     ]
    },
    {
     "name": "stdout",
     "output_type": "stream",
     "text": [
      "Epoch 1/30\n",
      "120/120 [==============================] - 2s 19ms/step - loss: 1.3667 - acc: 0.3250\n",
      "Epoch 2/30\n",
      "120/120 [==============================] - 0s 119us/step - loss: 1.2330 - acc: 0.3250\n",
      "Epoch 3/30\n",
      "120/120 [==============================] - 0s 134us/step - loss: 1.1481 - acc: 0.3250\n",
      "Epoch 4/30\n",
      "120/120 [==============================] - 0s 133us/step - loss: 1.0961 - acc: 0.3333\n",
      "Epoch 5/30\n",
      "120/120 [==============================] - 0s 143us/step - loss: 1.0764 - acc: 0.3417\n",
      "Epoch 6/30\n",
      "120/120 [==============================] - 0s 130us/step - loss: 1.0693 - acc: 0.3417\n",
      "Epoch 7/30\n",
      "120/120 [==============================] - 0s 120us/step - loss: 1.0582 - acc: 0.3417\n",
      "Epoch 8/30\n",
      "120/120 [==============================] - 0s 136us/step - loss: 1.0421 - acc: 0.3417\n",
      "Epoch 9/30\n",
      "120/120 [==============================] - 0s 122us/step - loss: 1.0231 - acc: 0.3667\n",
      "Epoch 10/30\n",
      "120/120 [==============================] - 0s 136us/step - loss: 1.0098 - acc: 0.5000\n",
      "Epoch 11/30\n",
      "120/120 [==============================] - 0s 119us/step - loss: 0.9951 - acc: 0.6000\n",
      "Epoch 12/30\n",
      "120/120 [==============================] - 0s 111us/step - loss: 0.9826 - acc: 0.6417\n",
      "Epoch 13/30\n",
      "120/120 [==============================] - 0s 136us/step - loss: 0.9684 - acc: 0.6583\n",
      "Epoch 14/30\n",
      "120/120 [==============================] - 0s 126us/step - loss: 0.9525 - acc: 0.6833\n",
      "Epoch 15/30\n",
      "120/120 [==============================] - 0s 130us/step - loss: 0.9355 - acc: 0.6833\n",
      "Epoch 16/30\n",
      "120/120 [==============================] - 0s 110us/step - loss: 0.9193 - acc: 0.7667\n",
      "Epoch 17/30\n",
      "120/120 [==============================] - 0s 122us/step - loss: 0.9044 - acc: 0.7750\n",
      "Epoch 18/30\n",
      "120/120 [==============================] - 0s 124us/step - loss: 0.8883 - acc: 0.8417\n",
      "Epoch 19/30\n",
      "120/120 [==============================] - 0s 132us/step - loss: 0.8726 - acc: 0.8250\n",
      "Epoch 20/30\n",
      "120/120 [==============================] - 0s 151us/step - loss: 0.8563 - acc: 0.8333\n",
      "Epoch 21/30\n",
      "120/120 [==============================] - 0s 131us/step - loss: 0.8407 - acc: 0.8333\n",
      "Epoch 22/30\n",
      "120/120 [==============================] - 0s 178us/step - loss: 0.8259 - acc: 0.8333\n",
      "Epoch 23/30\n",
      "120/120 [==============================] - 0s 139us/step - loss: 0.8092 - acc: 0.8500\n",
      "Epoch 24/30\n",
      "120/120 [==============================] - 0s 173us/step - loss: 0.7948 - acc: 0.8000\n",
      "Epoch 25/30\n",
      "120/120 [==============================] - 0s 122us/step - loss: 0.7788 - acc: 0.8000\n",
      "Epoch 26/30\n",
      "120/120 [==============================] - 0s 108us/step - loss: 0.7636 - acc: 0.8500\n",
      "Epoch 27/30\n",
      "120/120 [==============================] - 0s 136us/step - loss: 0.7490 - acc: 0.8500\n",
      "Epoch 28/30\n",
      "120/120 [==============================] - 0s 125us/step - loss: 0.7353 - acc: 0.8500\n",
      "Epoch 29/30\n",
      "120/120 [==============================] - 0s 131us/step - loss: 0.7208 - acc: 0.8833\n",
      "Epoch 30/30\n",
      "120/120 [==============================] - 0s 125us/step - loss: 0.7041 - acc: 0.9417\n"
     ]
    },
    {
     "data": {
      "text/plain": [
       "<keras.callbacks.History at 0x7f2774b11510>"
      ]
     },
     "execution_count": 7,
     "metadata": {},
     "output_type": "execute_result"
    }
   ],
   "source": [
    "model.fit(X_train, y_train, epochs=30)"
   ]
  },
  {
   "cell_type": "code",
   "execution_count": 20,
   "metadata": {},
   "outputs": [
    {
     "name": "stdout",
     "output_type": "stream",
     "text": [
      "                 precision    recall  f1-score   support\n",
      "\n",
      "    Iris-setosa       1.00      1.00      1.00        10\n",
      "Iris-versicolor       1.00      0.56      0.71         9\n",
      " Iris-virginica       0.73      1.00      0.85        11\n",
      "\n",
      "       accuracy                           0.87        30\n",
      "      macro avg       0.91      0.85      0.85        30\n",
      "   weighted avg       0.90      0.87      0.86        30\n",
      "\n"
     ]
    }
   ],
   "source": [
    "print(classification_report(onehot_enc.inverse_transform(y_test), \\\n",
    "    onehot_enc.inverse_transform(model.predict(X_test)), \\\n",
    "    labels=onehot_enc.categories_[0]))"
   ]
  }
 ],
 "metadata": {
  "kernelspec": {
   "display_name": "Python 3",
   "language": "python",
   "name": "python3"
  },
  "language_info": {
   "codemirror_mode": {
    "name": "ipython",
    "version": 3
   },
   "file_extension": ".py",
   "mimetype": "text/x-python",
   "name": "python",
   "nbconvert_exporter": "python",
   "pygments_lexer": "ipython3",
   "version": "3.7.4"
  }
 },
 "nbformat": 4,
 "nbformat_minor": 2
}
