{
 "cells": [
  {
   "cell_type": "code",
   "execution_count": 1,
   "metadata": {},
   "outputs": [],
   "source": [
    "import cv2\n",
    "import os\n",
    "import glob\n",
    "\n",
    "import pandas as pd\n",
    "import numpy as np\n",
    "import matplotlib.pyplot as plt"
   ]
  },
  {
   "cell_type": "code",
   "execution_count": 2,
   "metadata": {},
   "outputs": [
    {
     "data": {
      "text/plain": [
       "['dandelion', 'tulips', 'roses', 'sunflowers', 'daisy']"
      ]
     },
     "execution_count": 2,
     "metadata": {},
     "output_type": "execute_result"
    }
   ],
   "source": [
    "data_directory = \"flower_photos\"\n",
    "labels = glob.glob(\"flower_photos/*\")\n",
    "labels = [label.split(\"/\")[1] for label in labels]\n",
    "labels = [label for label in labels if not \"txt\" in label]\n",
    "labels"
   ]
  },
  {
   "cell_type": "code",
   "execution_count": 36,
   "metadata": {},
   "outputs": [],
   "source": [
    "def read_image_from_dir(label_name):\n",
    "    image_list = list()\n",
    "    images = glob.glob(os.path.join(data_directory, label_name) + \"/*\")\n",
    "    for image in images:\n",
    "        test_image = cv2.resize(cv2.imread(image, cv2.IMREAD_GRAYSCALE), dsize=(100, 100))\n",
    "        image_list.append(test_image.reshape(-1, 1))\n",
    "    \n",
    "    return np.array(image_list).reshape(-1, 100 * 100)"
   ]
  },
  {
   "cell_type": "code",
   "execution_count": 37,
   "metadata": {},
   "outputs": [],
   "source": [
    "images = read_image_from_dir(labels[0])"
   ]
  },
  {
   "cell_type": "code",
   "execution_count": 45,
   "metadata": {},
   "outputs": [],
   "source": [
    "df = pd.DataFrame(images, columns=[\"pixel\" + str(i) for i in range(100 * 100)])\n",
    "df[\"label\"] = (len(images) * (labels[0] + \" \")).split()"
   ]
  },
  {
   "cell_type": "code",
   "execution_count": 77,
   "metadata": {},
   "outputs": [],
   "source": [
    "df = pd.DataFrame(columns=[\"label\"] + [\"pixel\" + str(i) for i in range(100 * 100)])"
   ]
  },
  {
   "cell_type": "code",
   "execution_count": 79,
   "metadata": {},
   "outputs": [
    {
     "name": "stdout",
     "output_type": "stream",
     "text": [
      "898\n"
     ]
    },
    {
     "name": "stderr",
     "output_type": "stream",
     "text": [
      "/home/tustunkok/miniconda3/envs/dl/lib/python3.7/site-packages/pandas/core/frame.py:7123: FutureWarning: Sorting because non-concatenation axis is not aligned. A future version\n",
      "of pandas will change to not sort by default.\n",
      "\n",
      "To accept the future behavior, pass 'sort=False'.\n",
      "\n",
      "To retain the current behavior and silence the warning, pass 'sort=True'.\n",
      "\n",
      "  sort=sort,\n"
     ]
    },
    {
     "name": "stdout",
     "output_type": "stream",
     "text": [
      "799\n",
      "641\n",
      "699\n",
      "633\n"
     ]
    }
   ],
   "source": [
    "for label in labels:\n",
    "    images = read_image_from_dir(label)\n",
    "    temp_df = pd.DataFrame(images, columns=[\"pixel\" + str(i) for i in range(100 * 100)])\n",
    "    temp_df[\"label\"] = (len(images) * (label + \" \")).split()\n",
    "    print(len(temp_df))\n",
    "    df = df.append(temp_df)"
   ]
  },
  {
   "cell_type": "code",
   "execution_count": 84,
   "metadata": {},
   "outputs": [],
   "source": [
    "df.to_csv(\"flower_photos.csv\", index=False)"
   ]
  }
 ],
 "metadata": {
  "kernelspec": {
   "display_name": "Python 3",
   "language": "python",
   "name": "python3"
  },
  "language_info": {
   "codemirror_mode": {
    "name": "ipython",
    "version": 3
   },
   "file_extension": ".py",
   "mimetype": "text/x-python",
   "name": "python",
   "nbconvert_exporter": "python",
   "pygments_lexer": "ipython3",
   "version": "3.7.4"
  }
 },
 "nbformat": 4,
 "nbformat_minor": 2
}
